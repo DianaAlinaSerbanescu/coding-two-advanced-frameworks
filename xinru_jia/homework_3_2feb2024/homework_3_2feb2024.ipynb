{
  "nbformat": 4,
  "nbformat_minor": 0,
  "metadata": {
    "colab": {
      "provenance": []
    },
    "kernelspec": {
      "name": "python3",
      "display_name": "Python 3"
    },
    "language_info": {
      "name": "python"
    }
  },
  "cells": [
    {
      "cell_type": "code",
      "execution_count": 5,
      "metadata": {
        "id": "uT49CjVeaXaI"
      },
      "outputs": [],
      "source": [
        "import random\n"
      ]
    },
    {
      "cell_type": "code",
      "source": [
        "def sign(n):\n",
        "    if n >= 0:\n",
        "        return 1\n",
        "    else:\n",
        "        return -1"
      ],
      "metadata": {
        "id": "aU4YyMvCbPbB"
      },
      "execution_count": 6,
      "outputs": []
    },
    {
      "cell_type": "code",
      "source": [
        "class Perceptron:\n",
        "    def __init__(self):\n",
        "        self.weights = [random.uniform(-1, 1) for i in range(2)]\n",
        "\n",
        "    def guess(self, inputs):\n",
        "        sum = 0\n",
        "        for i in range(len(self.weights)):\n",
        "            sum += inputs[i] * self.weights[i]\n",
        "        output = sign(sum)\n",
        "        return output"
      ],
      "metadata": {
        "id": "wlnn7qi4dGxr"
      },
      "execution_count": 9,
      "outputs": []
    },
    {
      "cell_type": "code",
      "source": [
        "perceptron = Perceptron()\n",
        "inputs = [random.uniform(-1, 1) for i in range(2)]\n",
        "output = perceptron.guess(inputs)\n",
        "print(output)"
      ],
      "metadata": {
        "colab": {
          "base_uri": "https://localhost:8080/"
        },
        "id": "uiZrzXowdKA8",
        "outputId": "1e1d918c-3674-41a2-b546-a21fdc728195"
      },
      "execution_count": 11,
      "outputs": [
        {
          "output_type": "stream",
          "name": "stdout",
          "text": [
            "1\n"
          ]
        }
      ]
    },
    {
      "cell_type": "code",
      "source": [
        "pip install processing-py"
      ],
      "metadata": {
        "colab": {
          "base_uri": "https://localhost:8080/"
        },
        "id": "eggGkFwgd8-s",
        "outputId": "7148d153-bf0a-4bcc-e9d6-79e92d64eeb8"
      },
      "execution_count": 13,
      "outputs": [
        {
          "output_type": "stream",
          "name": "stdout",
          "text": [
            "Collecting processing-py\n",
            "  Downloading processing_py-0.3.7-py3-none-any.whl (8.3 kB)\n",
            "Requirement already satisfied: requests in /usr/local/lib/python3.10/dist-packages (from processing-py) (2.31.0)\n",
            "Collecting clint (from processing-py)\n",
            "  Downloading clint-0.5.1.tar.gz (29 kB)\n",
            "  Preparing metadata (setup.py) ... \u001b[?25l\u001b[?25hdone\n",
            "Collecting args (from clint->processing-py)\n",
            "  Downloading args-0.1.0.tar.gz (3.0 kB)\n",
            "  Preparing metadata (setup.py) ... \u001b[?25l\u001b[?25hdone\n",
            "Requirement already satisfied: charset-normalizer<4,>=2 in /usr/local/lib/python3.10/dist-packages (from requests->processing-py) (3.3.2)\n",
            "Requirement already satisfied: idna<4,>=2.5 in /usr/local/lib/python3.10/dist-packages (from requests->processing-py) (3.6)\n",
            "Requirement already satisfied: urllib3<3,>=1.21.1 in /usr/local/lib/python3.10/dist-packages (from requests->processing-py) (2.0.7)\n",
            "Requirement already satisfied: certifi>=2017.4.17 in /usr/local/lib/python3.10/dist-packages (from requests->processing-py) (2024.2.2)\n",
            "Building wheels for collected packages: clint, args\n",
            "  Building wheel for clint (setup.py) ... \u001b[?25l\u001b[?25hdone\n",
            "  Created wheel for clint: filename=clint-0.5.1-py3-none-any.whl size=34457 sha256=10e817b769d566d4912bf7475eb8899372970c82f942a49b72794473eb1d8dc7\n",
            "  Stored in directory: /root/.cache/pip/wheels/60/bd/a0/c20dd085251d95af656b5e3d287db7d4b4e8aec67b53a6f8dd\n",
            "  Building wheel for args (setup.py) ... \u001b[?25l\u001b[?25hdone\n",
            "  Created wheel for args: filename=args-0.1.0-py3-none-any.whl size=3318 sha256=a6d21f280f38271ad9c0fc5ecf90a2c7c25c1910864066fcb9da92f81ed8600f\n",
            "  Stored in directory: /root/.cache/pip/wheels/18/d7/bc/7b88d8405d97070a1a62712fd639ea0ad8d14b3dd74075cca6\n",
            "Successfully built clint args\n",
            "Installing collected packages: args, clint, processing-py\n",
            "Successfully installed args-0.1.0 clint-0.5.1 processing-py-0.3.7\n"
          ]
        }
      ]
    },
    {
      "cell_type": "code",
      "source": [
        "from processing_py import *"
      ],
      "metadata": {
        "id": "lKhG7ShpePcq"
      },
      "execution_count": 14,
      "outputs": []
    },
    {
      "cell_type": "code",
      "source": [
        "app = App(400, 400)"
      ],
      "metadata": {
        "colab": {
          "base_uri": "https://localhost:8080/"
        },
        "id": "JdgJL1DueVYn",
        "outputId": "53835362-c1b7-4568-a721-a70c54936f4f"
      },
      "execution_count": 15,
      "outputs": [
        {
          "output_type": "stream",
          "name": "stdout",
          "text": [
            "Downloading Processing.py & Java Runtime Environment 8u202 ... (~120MB)\n",
            "Extracting file ...\n"
          ]
        },
        {
          "output_type": "stream",
          "name": "stderr",
          "text": [
            "Starting App...\n",
            ">> java.awt.HeadlessException: \n",
            "\n",
            ">> No X11 DISPLAY variable was set, but this program performed an operation which requires it.\n",
            "\n"
          ]
        }
      ]
    },
    {
      "cell_type": "code",
      "source": [
        "import matplotlib.pyplot as plt"
      ],
      "metadata": {
        "id": "gnmoH_MoecaY"
      },
      "execution_count": 17,
      "outputs": []
    },
    {
      "cell_type": "code",
      "source": [
        "class Point:\n",
        "    def __init__(self, width, height):\n",
        "        self.x = random.uniform(0, width)\n",
        "        self.y = random.uniform(0, height)\n",
        "        self.label = 1 if self.x > self.y else -1\n",
        "\n",
        "    def show(self):\n",
        "        color = 'black' if self.label == 1 else 'white'\n",
        "        plt.scatter(self.x, self.y, c=color, edgecolors='black')"
      ],
      "metadata": {
        "id": "M1ZZjV40fyN6"
      },
      "execution_count": 21,
      "outputs": []
    },
    {
      "cell_type": "code",
      "source": [
        "width = 400\n",
        "height = 400\n",
        "points = [Point(width, height) for _ in range(100)]"
      ],
      "metadata": {
        "id": "CVSm8BC4f2tf"
      },
      "execution_count": 22,
      "outputs": []
    },
    {
      "cell_type": "code",
      "source": [
        "plt.figure(figsize=(5, 5))\n",
        "plt.xlim(0, width)\n",
        "plt.ylim(0, height)\n",
        "for point in points:\n",
        "    point.show()\n",
        "plt.plot([0, width], [0, height], color='black')\n",
        "plt.show()"
      ],
      "metadata": {
        "colab": {
          "base_uri": "https://localhost:8080/",
          "height": 451
        },
        "id": "9TODbLilgCPU",
        "outputId": "1f7eaca7-00e0-4af4-a808-c5a70646ade5"
      },
      "execution_count": 27,
      "outputs": [
        {
          "output_type": "display_data",
          "data": {
            "text/plain": [
              "<Figure size 500x500 with 1 Axes>"
            ],
            "image/png": "[encoded data removed]"
          },
          "metadata": {}
        }
      ]
    }
  ]
}